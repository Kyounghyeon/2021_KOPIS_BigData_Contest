{
 "cells": [
  {
   "cell_type": "markdown",
   "metadata": {},
   "source": [
    "필요한 모듈 import"
   ]
  },
  {
   "cell_type": "code",
   "execution_count": 1,
   "metadata": {
    "id": "UjWbjr1l-4R0"
   },
   "outputs": [],
   "source": [
    "import requests\n",
    "from bs4 import BeautifulSoup\n",
    "import time"
   ]
  },
  {
   "cell_type": "code",
   "execution_count": 2,
   "metadata": {
    "id": "WKqaLtU0_OI4"
   },
   "outputs": [],
   "source": [
    "import numpy as np\n",
    "import pandas as pd"
   ]
  },
  {
   "cell_type": "code",
   "execution_count": 4,
   "metadata": {
    "colab": {
     "base_uri": "https://localhost:8080/"
    },
    "id": "H7PDWVbL_6Qh",
    "outputId": "c9fc717f-d412-4533-8c46-0c607565b080"
   },
   "outputs": [
    {
     "name": "stdout",
     "output_type": "stream",
     "text": [
      "Collecting selenium\n",
      "  Downloading selenium-3.141.0-py2.py3-none-any.whl (904 kB)\n",
      "\u001b[K     |████████████████████████████████| 904 kB 1.8 MB/s eta 0:00:01\n",
      "\u001b[?25hRequirement already satisfied: urllib3 in /opt/anaconda3/lib/python3.8/site-packages (from selenium) (1.26.4)\n",
      "Installing collected packages: selenium\n",
      "Successfully installed selenium-3.141.0\n"
     ]
    }
   ],
   "source": [
    "# !pip install selenium"
   ]
  },
  {
   "cell_type": "code",
   "execution_count": 6,
   "metadata": {
    "id": "x4jUA6Za_OPv"
   },
   "outputs": [],
   "source": [
    "import selenium\n",
    "from selenium import webdriver\n",
    "from selenium.webdriver import ActionChains\n",
    "\n",
    "from selenium.webdriver.common.keys import Keys\n",
    "from selenium.webdriver.common.by import By\n",
    "\n",
    "from selenium.webdriver.support import expected_conditions as EC\n",
    "from selenium.webdriver.support.ui import Select\n",
    "from selenium.webdriver.support.ui import WebDriverWait"
   ]
  },
  {
   "cell_type": "code",
   "execution_count": 7,
   "metadata": {
    "id": "jL7LIgK6_OSj"
   },
   "outputs": [],
   "source": [
    "from selenium.webdriver.chrome.options import Options"
   ]
  },
  {
   "cell_type": "markdown",
   "metadata": {},
   "source": [
    "크롤링 데이터 저장을 위한 데이터프레임 생성"
   ]
  },
  {
   "cell_type": "code",
   "execution_count": 123,
   "metadata": {},
   "outputs": [],
   "source": [
    "kopis_address = pd.DataFrame(columns=[\n",
    "    '제작사', '주소', '장르'\n",
    "])\n",
    "\n",
    "tmp_kopis_address = pd.DataFrame(columns=[\n",
    "    '제작사', '주소', '장르'\n",
    "])\n"
   ]
  },
  {
   "cell_type": "markdown",
   "metadata": {},
   "source": [
    "데이터프레임 형태 확인"
   ]
  },
  {
   "cell_type": "code",
   "execution_count": 124,
   "metadata": {},
   "outputs": [
    {
     "data": {
      "text/html": [
       "<div>\n",
       "<style scoped>\n",
       "    .dataframe tbody tr th:only-of-type {\n",
       "        vertical-align: middle;\n",
       "    }\n",
       "\n",
       "    .dataframe tbody tr th {\n",
       "        vertical-align: top;\n",
       "    }\n",
       "\n",
       "    .dataframe thead th {\n",
       "        text-align: right;\n",
       "    }\n",
       "</style>\n",
       "<table border=\"1\" class=\"dataframe\">\n",
       "  <thead>\n",
       "    <tr style=\"text-align: right;\">\n",
       "      <th></th>\n",
       "      <th>제작사</th>\n",
       "      <th>주소</th>\n",
       "      <th>장르</th>\n",
       "    </tr>\n",
       "  </thead>\n",
       "  <tbody>\n",
       "  </tbody>\n",
       "</table>\n",
       "</div>"
      ],
      "text/plain": [
       "Empty DataFrame\n",
       "Columns: [제작사, 주소, 장르]\n",
       "Index: []"
      ]
     },
     "execution_count": 124,
     "metadata": {},
     "output_type": "execute_result"
    }
   ],
   "source": [
    "tmp_kopis_address"
   ]
  },
  {
   "cell_type": "markdown",
   "metadata": {},
   "source": [
    "크롤링 시행"
   ]
  },
  {
   "cell_type": "code",
   "execution_count": 133,
   "metadata": {},
   "outputs": [
    {
     "name": "stdout",
     "output_type": "stream",
     "text": [
      "1\n",
      "2\n",
      "3\n",
      "4\n",
      "5\n",
      "6\n",
      "7\n",
      "8\n",
      "9\n",
      "10\n",
      "11\n",
      "12\n",
      "13\n",
      "14\n",
      "15\n",
      "16\n",
      "17\n",
      "18\n"
     ]
    }
   ],
   "source": [
    "chrome_options = Options()\n",
    "chrome_options.add_argument(\"--no-sandbox\")\n",
    "chrome_options.add_argument(\"--disable-setuid-sandbox\")\n",
    "\n",
    "driver = webdriver.Chrome('/Users/hyungyeonghong/Desktop/chromedriver', options = chrome_options )\n",
    "driver.maximize_window()\n",
    "\n",
    "driver.implicitly_wait(time_to_wait = 5)\n",
    "\n",
    "for page_index in range(0, 18):\n",
    "    print(page_index+1)\n",
    "    \n",
    "    # 무용, 국악, 서울 체크박스 선택: 첫 페이지에서만 실행\n",
    "    if page_index == 0:\n",
    "        driver.get(url = f'https://www.kopis.or.kr/por/db/mnfct/mnfct.do?menuId=MNU_00022&searchWord=&searchType=total#p{page_index+1}#01#ASC#########1#0#')\n",
    "        time.sleep(5)\n",
    "\n",
    "        tmp = driver.find_element_by_xpath('//*[@id=\"su_con\"]/div[1]/div[2]/p/a')\n",
    "        tmp.click()\n",
    "        time.sleep(2)\n",
    "\n",
    "        tmp = driver.find_element_by_id(\"srchMt2zGenreCode_5\")\n",
    "        tmp.click()\n",
    "        time.sleep(2)\n",
    "\n",
    "        tmp = driver.find_element_by_id(\"srchMt2zGenreCode_6\")\n",
    "        tmp.click()\n",
    "        time.sleep(2)\n",
    "\n",
    "        tmp = driver.find_element_by_id(\"srchSignguCode_1\")\n",
    "        tmp.click()\n",
    "        time.sleep(2)\n",
    "\n",
    "        tmp = driver.find_element_by_xpath('/html/body/div[2]/div[3]/div[2]/div[1]/div[3]/div/div/a[1]')\n",
    "        tmp.click()\n",
    "        time.sleep(2)\n",
    "    \n",
    "    if page_index < 10:\n",
    "        tmp = driver.find_element_by_xpath('//*[@id=\"su_con\"]/div[6]/div/a[13]')\n",
    "        tmp.click()\n",
    "        time.sleep(2)\n",
    "        driver.implicitly_wait(time_to_wait = 5)\n",
    "        \n",
    "        continue\n",
    "    \n",
    "    if page_index == 10:\n",
    "        tmp = driver.find_element_by_xpath('//*[@id=\"su_con\"]/div[6]/div/a[11]')\n",
    "        tmp.click()\n",
    "        time.sleep(2)\n",
    "        driver.implicitly_wait(time_to_wait = 5)\n",
    "        \n",
    "        continue\n",
    "        \n",
    "    \n",
    "    # 마지막 페이지 극단 수 다름\n",
    "    if page_index !=17:\n",
    "        num_of_places_in_page = 30\n",
    "        \n",
    "    elif page_index == 17:\n",
    "        num_of_places_in_page = 9\n",
    "        \n",
    "        \n",
    "    # 극단 크롤링\n",
    "    for j in range(0, num_of_places_in_page):\n",
    "        \n",
    "        driver.implicitly_wait(time_to_wait = 5)\n",
    "        \n",
    "        tmp = driver.find_element_by_xpath(f'//*[@id=\"table_reaction\"]/table/tbody/tr[{j+1}]/td[2]/a')\n",
    "        tmp.click()\n",
    "        time.sleep(3)\n",
    "        \n",
    "        html = driver.page_source\n",
    "        soup = BeautifulSoup(html, 'html.parser')\n",
    "               \n",
    "        plc = soup.select_one('#su_con > div.vw_lsbk > ul.ro_utb > li:nth-of-type(1) > div:nth-of-type(1) > dl > dd').get_text().replace('\\n','')\n",
    "        address = soup.select_one('#su_con > div.vw_lsbk > ul.ro_utb > li:nth-of-type(3) > div.sgl > dl > dd').get_text().replace('\\n','')\n",
    "        genre = soup.select_one('#su_con > div.vw_lsbk > ul.ro_utb > li:nth-of-type(4) > div:nth-of-type(2) > dl > dd').get_text().replace('\\n','')\n",
    "        \n",
    "        tmp_kopis_address = tmp_kopis_address.append({'제작사' : plc, '주소' : address, '장르' : genre}, ignore_index=True)\n",
    "        time.sleep(2)\n",
    "        \n",
    "        driver.back()\n",
    "        time.sleep(2)\n",
    "        \n",
    "    # 다음 페이지로 넘어가기\n",
    "    if page_index != 17:\n",
    "        tmp = driver.find_element_by_xpath('//*[@id=\"su_con\"]/div[6]/div/a[11]')\n",
    "        tmp.click()\n",
    "        time.sleep(2)\n",
    "        driver.implicitly_wait(time_to_wait = 5)"
   ]
  },
  {
   "cell_type": "markdown",
   "metadata": {},
   "source": [
    "tmp_kopis_address 데이터 kopis_address로 옮겨오기"
   ]
  },
  {
   "cell_type": "code",
   "execution_count": 136,
   "metadata": {},
   "outputs": [],
   "source": [
    "kopis_address = tmp_kopis_address"
   ]
  },
  {
   "cell_type": "code",
   "execution_count": 137,
   "metadata": {},
   "outputs": [
    {
     "data": {
      "text/html": [
       "<div>\n",
       "<style scoped>\n",
       "    .dataframe tbody tr th:only-of-type {\n",
       "        vertical-align: middle;\n",
       "    }\n",
       "\n",
       "    .dataframe tbody tr th {\n",
       "        vertical-align: top;\n",
       "    }\n",
       "\n",
       "    .dataframe thead th {\n",
       "        text-align: right;\n",
       "    }\n",
       "</style>\n",
       "<table border=\"1\" class=\"dataframe\">\n",
       "  <thead>\n",
       "    <tr style=\"text-align: right;\">\n",
       "      <th></th>\n",
       "      <th>제작사</th>\n",
       "      <th>주소</th>\n",
       "      <th>장르</th>\n",
       "    </tr>\n",
       "  </thead>\n",
       "  <tbody>\n",
       "    <tr>\n",
       "      <th>0</th>\n",
       "      <td>(사)가야금병창보존회</td>\n",
       "      <td>서울특별시 서초구 반포대로14길 71 서초엘지에클라트오피스텔1929호</td>\n",
       "      <td>국악</td>\n",
       "    </tr>\n",
       "    <tr>\n",
       "      <th>1</th>\n",
       "      <td>(사)가야금산조진흥회</td>\n",
       "      <td>서울특별시 서초구 서초중앙로 15</td>\n",
       "      <td>국악</td>\n",
       "    </tr>\n",
       "    <tr>\n",
       "      <th>2</th>\n",
       "      <td>(사)경기국극진흥회</td>\n",
       "      <td>서울특별시 종로구 종로 313</td>\n",
       "      <td>국악</td>\n",
       "    </tr>\n",
       "    <tr>\n",
       "      <th>3</th>\n",
       "      <td>(사)경서도창악회</td>\n",
       "      <td>서울특별시 서초구 사임당로18길 52-2</td>\n",
       "      <td>국악</td>\n",
       "    </tr>\n",
       "    <tr>\n",
       "      <th>4</th>\n",
       "      <td>(사)공명</td>\n",
       "      <td>서울특별시 종로구 동숭4가길2, 2층(동숭동)</td>\n",
       "      <td>국악</td>\n",
       "    </tr>\n",
       "    <tr>\n",
       "      <th>...</th>\n",
       "      <td>...</td>\n",
       "      <td>...</td>\n",
       "      <td>...</td>\n",
       "    </tr>\n",
       "    <tr>\n",
       "      <th>514</th>\n",
       "      <td>황병기 작품 보존회</td>\n",
       "      <td>서울특별시 서초구</td>\n",
       "      <td>국악</td>\n",
       "    </tr>\n",
       "    <tr>\n",
       "      <th>515</th>\n",
       "      <td>후(后)Korean Dance Company</td>\n",
       "      <td>서울특별시 중랑구 동일로157길 13(묵동)</td>\n",
       "      <td>무용</td>\n",
       "    </tr>\n",
       "    <tr>\n",
       "      <th>516</th>\n",
       "      <td>후댄스컴퍼니</td>\n",
       "      <td>서울특별시 종로구</td>\n",
       "      <td>무용</td>\n",
       "    </tr>\n",
       "    <tr>\n",
       "      <th>517</th>\n",
       "      <td>휴먼 스탕스</td>\n",
       "      <td>서울특별시 종로구</td>\n",
       "      <td>무용</td>\n",
       "    </tr>\n",
       "    <tr>\n",
       "      <th>518</th>\n",
       "      <td>힐링아트센터</td>\n",
       "      <td>서울특별시 강남구 선릉로68길 16</td>\n",
       "      <td>국악</td>\n",
       "    </tr>\n",
       "  </tbody>\n",
       "</table>\n",
       "<p>519 rows × 3 columns</p>\n",
       "</div>"
      ],
      "text/plain": [
       "                          제작사                                      주소  장르\n",
       "0                 (사)가야금병창보존회  서울특별시 서초구 반포대로14길 71 서초엘지에클라트오피스텔1929호  국악\n",
       "1                 (사)가야금산조진흥회                      서울특별시 서초구 서초중앙로 15  국악\n",
       "2                  (사)경기국극진흥회                       서울특별시 종로구 종로 313   국악\n",
       "3                   (사)경서도창악회                  서울특별시 서초구 사임당로18길 52-2  국악\n",
       "4                       (사)공명               서울특별시 종로구 동숭4가길2, 2층(동숭동)  국악\n",
       "..                        ...                                     ...  ..\n",
       "514                황병기 작품 보존회                               서울특별시 서초구  국악\n",
       "515  후(后)Korean Dance Company               서울특별시 중랑구 동일로157길 13(묵동)   무용\n",
       "516                    후댄스컴퍼니                               서울특별시 종로구  무용\n",
       "517                    휴먼 스탕스                               서울특별시 종로구  무용\n",
       "518                    힐링아트센터                     서울특별시 강남구 선릉로68길 16  국악\n",
       "\n",
       "[519 rows x 3 columns]"
      ]
     },
     "execution_count": 137,
     "metadata": {},
     "output_type": "execute_result"
    }
   ],
   "source": [
    "kopis_address"
   ]
  },
  {
   "cell_type": "markdown",
   "metadata": {},
   "source": [
    "데이터프레임을 csv 파일로 변환"
   ]
  },
  {
   "cell_type": "code",
   "execution_count": 140,
   "metadata": {},
   "outputs": [],
   "source": [
    "kopis_address.to_csv(\"kopis_address.csv\", index = False, encoding = \"utf-8\")"
   ]
  }
 ],
 "metadata": {
  "colab": {
   "name": "홍현경연습장2.ipynb",
   "provenance": []
  },
  "kernelspec": {
   "display_name": "Python 3",
   "language": "python",
   "name": "python3"
  },
  "language_info": {
   "codemirror_mode": {
    "name": "ipython",
    "version": 3
   },
   "file_extension": ".py",
   "mimetype": "text/x-python",
   "name": "python",
   "nbconvert_exporter": "python",
   "pygments_lexer": "ipython3",
   "version": "3.8.8"
  }
 },
 "nbformat": 4,
 "nbformat_minor": 1
}
